{
 "cells": [
  {
   "cell_type": "code",
   "execution_count": 3,
   "metadata": {},
   "outputs": [],
   "source": [
    "#\n",
    "#\n",
    "#    Solving the single VS DR\n",
    "#\n",
    "#==================================================================\n",
    "\n",
    "import vs_solver\n",
    "import importlib\n",
    "importlib.reload(vs_solver)\n",
    "import numpy as np\n",
    "\n",
    "param={}\n",
    "param['Mj']  =1.2\n",
    "param['gama']=1.4\n",
    "param['m']   = 0\n",
    "param['S']   = 1.0\n",
    "param['Rj']  = 0.5\n",
    "vs=vs_solver.vortex_sheet(param)"
   ]
  },
  {
   "cell_type": "code",
   "execution_count": 9,
   "metadata": {},
   "outputs": [
    {
     "name": "stdout",
     "output_type": "stream",
     "text": [
      "St =  0.2\n",
      "secant :  (1.26628051450304 - 0.670951427521137j)\n"
     ]
    }
   ],
   "source": [
    "St = 0.2\n",
    "omega = 2*np.pi*St*param['Mj']\n",
    "k_ini = omega/(0.9*param['Mj']) - 0.5j\n",
    "\n",
    "solv='secant'\n",
    "try :\n",
    "    k_kh = vs.solve(omega, k_ini,method=solv)\n",
    "except  ValueError:\n",
    "    print(solv,': error')\n",
    "else :\n",
    "    print('St = ',St)\n",
    "    print(solv+' : ',k_kh)"
   ]
  },
  {
   "cell_type": "code",
   "execution_count": 10,
   "metadata": {},
   "outputs": [
    {
     "name": "stdout",
     "output_type": "stream",
     "text": [
      "(1.3962634015954634-0.5j)\n"
     ]
    }
   ],
   "source": [
    "     )"
   ]
  },
  {
   "cell_type": "code",
   "execution_count": null,
   "metadata": {},
   "outputs": [],
   "source": []
  }
 ],
 "metadata": {
  "kernelspec": {
   "display_name": "Python 3",
   "language": "python",
   "name": "python3"
  },
  "language_info": {
   "codemirror_mode": {
    "name": "ipython",
    "version": 3
   },
   "file_extension": ".py",
   "mimetype": "text/x-python",
   "name": "python",
   "nbconvert_exporter": "python",
   "pygments_lexer": "ipython3",
   "version": "3.7.4"
  }
 },
 "nbformat": 4,
 "nbformat_minor": 4
}
